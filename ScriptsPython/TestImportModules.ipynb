{
 "cells": [
  {
   "cell_type": "code",
   "execution_count": 1,
   "metadata": {},
   "outputs": [],
   "source": [
    "from ModulesPython import AnalyseProsopoTEI as APT\n",
    "from bs4 import BeautifulSoup"
   ]
  },
  {
   "cell_type": "code",
   "execution_count": 3,
   "metadata": {},
   "outputs": [
    {
     "name": "stderr",
     "output_type": "stream",
     "text": [
      "/home/hippolyte/Documents/ProjetEchevinsDeStrasbourg/ScriptsPython/ModulesPython/AnalyseProsopoTEI.py:6: GuessedAtParserWarning: No parser was explicitly specified, so I'm using the best available HTML parser for this system (\"lxml\"). This usually isn't a problem, but if you run this code on another system, or in a different virtual environment, it may use a different parser and behave differently.\n",
      "\n",
      "The code that caused this warning is on line 6 of the file /home/hippolyte/Documents/ProjetEchevinsDeStrasbourg/ScriptsPython/ModulesPython/AnalyseProsopoTEI.py. To get rid of this warning, pass the additional argument 'features=\"lxml\"' to the BeautifulSoup constructor.\n",
      "\n",
      "  soup = BeautifulSoup(open(CheminRelatifFichier, 'r'))\n"
     ]
    }
   ],
   "source": [
    "ListeDicoPersonne = APT.XmlTei_to_Dataframe('../Sources/EditionsXML/aves_aa_195_f69r-77r-v2.xml')"
   ]
  },
  {
   "cell_type": "code",
   "execution_count": 4,
   "metadata": {},
   "outputs": [
    {
     "name": "stdout",
     "output_type": "stream",
     "text": [
      "                          nom     prénom          fonction corps civique  \\\n",
      "0                     Schalck     Obreht  [her, ammeister]     Échevinat   \n",
      "1    Armbruster In Brantgasse     Cünrat               NaN     Échevinat   \n",
      "2                      Amlung      Hanns               NaN     Échevinat   \n",
      "3                       Phige   Reimbolt               NaN     Échevinat   \n",
      "4                     Lumbart      Hanns               NaN     Échevinat   \n",
      "..                        ...        ...               ...           ...   \n",
      "374                       NaN  Friderich        [kacheler]     Échevinat   \n",
      "375             von Dürnyngen      Sigel        [rotherre]     Échevinat   \n",
      "376                    Paulus      Hanns               NaN     Échevinat   \n",
      "377                      Hirt      Hanns               NaN     Échevinat   \n",
      "378                   Förster     Symont               NaN     Échevinat   \n",
      "\n",
      "                                Corporation       Poêle    surnom  \n",
      "0                     Corporation_à_l_Ancre  Zum_Encker       NaN  \n",
      "1                     Corporation_à_l_Ancre  Zum_Encker       NaN  \n",
      "2                     Corporation_à_l_Ancre  Zum_Encker       NaN  \n",
      "3                     Corporation_à_l_Ancre  Zum_Encker       NaN  \n",
      "4                     Corporation_à_l_Ancre  Zum_Encker       NaN  \n",
      "..                                      ...         ...       ...  \n",
      "374                  Corporation_des_maçons         NaN       NaN  \n",
      "375  Corporation_des_coltineurs_de_tonneaux         NaN       NaN  \n",
      "376  Corporation_des_coltineurs_de_tonneaux         NaN       NaN  \n",
      "377  Corporation_des_coltineurs_de_tonneaux         NaN  der alte  \n",
      "378  Corporation_des_coltineurs_de_tonneaux         NaN       NaN  \n",
      "\n",
      "[379 rows x 7 columns]\n"
     ]
    }
   ],
   "source": [
    "print(ListeDicoPersonne)"
   ]
  },
  {
   "cell_type": "code",
   "execution_count": null,
   "metadata": {},
   "outputs": [],
   "source": []
  }
 ],
 "metadata": {
  "kernelspec": {
   "display_name": "Python 3",
   "language": "python",
   "name": "python3"
  },
  "language_info": {
   "codemirror_mode": {
    "name": "ipython",
    "version": 3
   },
   "file_extension": ".py",
   "mimetype": "text/x-python",
   "name": "python",
   "nbconvert_exporter": "python",
   "pygments_lexer": "ipython3",
   "version": "3.8.5"
  }
 },
 "nbformat": 4,
 "nbformat_minor": 4
}
