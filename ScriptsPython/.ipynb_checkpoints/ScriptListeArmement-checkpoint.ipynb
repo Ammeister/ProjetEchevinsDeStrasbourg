{
 "cells": [
  {
   "cell_type": "code",
   "execution_count": 15,
   "metadata": {},
   "outputs": [],
   "source": [
    "from pathlib import Path"
   ]
  },
  {
   "cell_type": "code",
   "execution_count": 16,
   "metadata": {},
   "outputs": [
    {
     "ename": "SyntaxError",
     "evalue": "invalid syntax (<ipython-input-16-71666fb37282>, line 3)",
     "output_type": "error",
     "traceback": [
      "\u001b[0;36m  File \u001b[0;32m\"<ipython-input-16-71666fb37282>\"\u001b[0;36m, line \u001b[0;32m3\u001b[0m\n\u001b[0;31m    fichier_donnee = Path(../Sources/EditionsTXT/)\u001b[0m\n\u001b[0m                          ^\u001b[0m\n\u001b[0;31mSyntaxError\u001b[0m\u001b[0;31m:\u001b[0m invalid syntax\n"
     ]
    }
   ],
   "source": [
    "def ImportTXT(nom_document):\n",
    "\t#Cette fonction permet d'importer un fichier au format txt.\n",
    "\tfichier_donnee = Path(../Sources/EditionsTXT/)\n",
    "\tfichier_a_ouvrir = fichier_donnee / nom_document\n",
    "\tsource = open(fichier_a_ouvrir)\n",
    "\treturn(source.read())"
   ]
  },
  {
   "cell_type": "code",
   "execution_count": null,
   "metadata": {},
   "outputs": [],
   "source": []
  }
 ],
 "metadata": {
  "kernelspec": {
   "display_name": "Python 3",
   "language": "python",
   "name": "python3"
  },
  "language_info": {
   "codemirror_mode": {
    "name": "ipython",
    "version": 3
   },
   "file_extension": ".py",
   "mimetype": "text/x-python",
   "name": "python",
   "nbconvert_exporter": "python",
   "pygments_lexer": "ipython3",
   "version": "3.8.5"
  }
 },
 "nbformat": 4,
 "nbformat_minor": 4
}
