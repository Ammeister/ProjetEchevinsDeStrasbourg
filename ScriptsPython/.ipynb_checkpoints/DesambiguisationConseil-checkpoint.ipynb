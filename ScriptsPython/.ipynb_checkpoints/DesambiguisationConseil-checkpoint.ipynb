{
 "cells": [
  {
   "cell_type": "markdown",
   "metadata": {},
   "source": [
    "# Import des modules"
   ]
  },
  {
   "cell_type": "code",
   "execution_count": 1,
   "metadata": {},
   "outputs": [],
   "source": [
    "import pandas as pd\n",
    "import numpy as np\n",
    "from ast import literal_eval\n",
    "import csv\n",
    "from pathlib import Path"
   ]
  },
  {
   "cell_type": "markdown",
   "metadata": {},
   "source": [
    "On convertit les colonnes qui doivent l'être en listes."
   ]
  },
  {
   "cell_type": "code",
   "execution_count": 2,
   "metadata": {},
   "outputs": [],
   "source": [
    "BaseEchevins = pd.read_csv(\"./../Tables/BaseEchevin.csv\")\n",
    "BaseEchevins['rang'] = BaseEchevins.rang.apply(literal_eval)\n",
    "BaseEchevins['magistrature'] = BaseEchevins.magistrature.apply(literal_eval)\n",
    "BaseEchevins['AnnéeMagistrature'] = BaseEchevins.AnnéeMagistrature.apply(literal_eval)\n",
    "BaseEchevins['Titres'] = BaseEchevins.Titres.apply(literal_eval)\n",
    "BaseEchevins['NomCompletNN'] = BaseEchevins.NomCompletNN.apply(literal_eval)"
   ]
  },
  {
   "cell_type": "code",
   "execution_count": 3,
   "metadata": {},
   "outputs": [],
   "source": [
    "#CoteDoc = str(input('Entrez la cote du document'))\n",
    "#CoteDoc"
   ]
  },
  {
   "cell_type": "code",
   "execution_count": 16,
   "metadata": {
    "scrolled": false
   },
   "outputs": [
    {
     "ename": "SyntaxError",
     "evalue": "invalid syntax (<ipython-input-16-d71830b85ccc>, line 29)",
     "output_type": "error",
     "traceback": [
      "\u001b[0;36m  File \u001b[0;32m\"<ipython-input-16-d71830b85ccc>\"\u001b[0;36m, line \u001b[0;32m29\u001b[0m\n\u001b[0;31m    for (index1, row1 in DF.iterrows()) and (index2,row2) in DF.iterrows()) :\u001b[0m\n\u001b[0m                                        ^\u001b[0m\n\u001b[0;31mSyntaxError\u001b[0m\u001b[0;31m:\u001b[0m invalid syntax\n"
     ]
    }
   ],
   "source": [
    "\n",
    "folder = './../Tables/ListesConseil/'\n",
    "\n",
    "for file in Path(folder).glob('*.csv'):\n",
    "    \n",
    "    if file != \"1400ListeConseil.csv\":\n",
    "        \n",
    "        #continue\n",
    "        \n",
    "    #else :\n",
    "        \n",
    "        DF =  pd.read_csv(\"./../Tables/\" + str(file))\n",
    "        \n",
    "        DF = DF.drop(['nomNN', 'prénomNN', 'surnomNN'], axis=1)\n",
    "\n",
    "\n",
    "        #DF.rename(columns={\"Unnamed: 0\" : \"rang\"})\n",
    "        \n",
    "        DF.columns = ['rang', 'magistrature', 'AnnéeMagistrature', 'prénom', 'nom', 'surnom', 'genName', 'Titres', 'corps civique', 'corporation', 'poele', 'NomCompletNN']\n",
    "        \n",
    "        #print (DF)\n",
    "\n",
    "\n",
    "        DF = DF.loc[DF['corps civique'] == 'echevinat']\n",
    "\n",
    "        DF = DF.reset_index(drop=True)\n",
    "\n",
    "        #print(DF)\n",
    "\n",
    "        for (index1, row1 in DF.iterrows()) and (index2,row2) in DF.iterrows()) :\n",
    "\n",
    "            #print(DF.iloc[index1]['prénom'])\n",
    "\n",
    "            for index2, row2 in BaseEchevins.iterrows():\n",
    "\n",
    "                if ((DF.iloc[index1]['nom'] == BaseEchevins.iloc[index2]['nom']) or (DF.iloc[index1]['prénom'] == BaseEchevins.iloc[index2]['prénom'])) and (DF.iloc[index1]['corporation'] == BaseEchevins.iloc[index2]['corporation']) :\n",
    "\n",
    "                    #print(DF.iloc[index1]['prénom'])\n",
    "                    print(DF.loc[index1])\n",
    "                    print(BaseEchevins.loc[index2])\n",
    "\n",
    "                    OuiOuNon = input(\"S'agit-il de la même personne  ? Répondez par O pour Oui et N pour Non\")\n",
    "\n",
    "                    if OuiOuNon == \"N\" :\n",
    "                        continue\n",
    "\n",
    "                    if OuiOuNon == \"O\" :\n",
    "                        print ('yessay')\n",
    "                    \n",
    "                else :\n",
    "                    \n",
    "\n",
    "\n",
    "                #for index2, row2 in BaseEchevins.iteritems():\n",
    "\n",
    "                        #if (DF.iloc[index1]['prénom'] == BaseEchevins.iloc[index2]['prénom']) == True :\n",
    "\n",
    "                            #print(DF.loc[[index1]])\n",
    "                            #print(DF.loc[[index2]])\n",
    "                            #BOOLE = input()\n",
    "\n",
    "\n",
    "\n",
    "\n"
   ]
  },
  {
   "cell_type": "code",
   "execution_count": null,
   "metadata": {},
   "outputs": [],
   "source": [
    "DF"
   ]
  },
  {
   "cell_type": "code",
   "execution_count": null,
   "metadata": {},
   "outputs": [],
   "source": []
  }
 ],
 "metadata": {
  "kernelspec": {
   "display_name": "Python 3",
   "language": "python",
   "name": "python3"
  },
  "language_info": {
   "codemirror_mode": {
    "name": "ipython",
    "version": 3
   },
   "file_extension": ".py",
   "mimetype": "text/x-python",
   "name": "python",
   "nbconvert_exporter": "python",
   "pygments_lexer": "ipython3",
   "version": "3.8.5"
  }
 },
 "nbformat": 4,
 "nbformat_minor": 4
}
